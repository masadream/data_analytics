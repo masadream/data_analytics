{
  "nbformat": 4,
  "nbformat_minor": 0,
  "metadata": {
    "colab": {
      "name": "get_myhateb.ipynb",
      "provenance": [],
      "include_colab_link": true
    },
    "kernelspec": {
      "name": "python3",
      "display_name": "Python 3"
    }
  },
  "cells": [
    {
      "cell_type": "markdown",
      "metadata": {
        "id": "view-in-github",
        "colab_type": "text"
      },
      "source": [
        "<a href=\"https://colab.research.google.com/github/masadream/data_analytics/blob/master/util_for_me/get_myhateb.ipynb\" target=\"_parent\"><img src=\"https://colab.research.google.com/assets/colab-badge.svg\" alt=\"Open In Colab\"/></a>"
      ]
    },
    {
      "cell_type": "markdown",
      "metadata": {
        "id": "x4ZZfsOpGwwN",
        "colab_type": "text"
      },
      "source": [
        "## モジュールインポート"
      ]
    },
    {
      "cell_type": "code",
      "metadata": {
        "id": "k0Z2PPB6GkeK",
        "colab_type": "code",
        "outputId": "eb9c09c4-e2d7-4879-c393-e4b889a4de7e",
        "colab": {
          "base_uri": "https://localhost:8080/",
          "height": 207
        }
      },
      "source": [
        "!pip install feedparser\n",
        "\n",
        "import feedparser\n",
        "import urllib.parse\n",
        "from dateutil.parser import parse\n",
        "from pytz import timezone\n",
        "import pandas as pd\n",
        "import datetime as dt"
      ],
      "execution_count": 0,
      "outputs": [
        {
          "output_type": "stream",
          "text": [
            "Collecting feedparser\n",
            "\u001b[?25l  Downloading https://files.pythonhosted.org/packages/91/d8/7d37fec71ff7c9dbcdd80d2b48bcdd86d6af502156fc93846fb0102cb2c4/feedparser-5.2.1.tar.bz2 (192kB)\n",
            "\r\u001b[K     |█▊                              | 10kB 16.6MB/s eta 0:00:01\r\u001b[K     |███▍                            | 20kB 1.7MB/s eta 0:00:01\r\u001b[K     |█████▏                          | 30kB 2.2MB/s eta 0:00:01\r\u001b[K     |██████▉                         | 40kB 2.4MB/s eta 0:00:01\r\u001b[K     |████████▌                       | 51kB 1.9MB/s eta 0:00:01\r\u001b[K     |██████████▎                     | 61kB 2.2MB/s eta 0:00:01\r\u001b[K     |████████████                    | 71kB 2.4MB/s eta 0:00:01\r\u001b[K     |█████████████▋                  | 81kB 2.6MB/s eta 0:00:01\r\u001b[K     |███████████████▍                | 92kB 2.8MB/s eta 0:00:01\r\u001b[K     |█████████████████               | 102kB 2.7MB/s eta 0:00:01\r\u001b[K     |██████████████████▊             | 112kB 2.7MB/s eta 0:00:01\r\u001b[K     |████████████████████▌           | 122kB 2.7MB/s eta 0:00:01\r\u001b[K     |██████████████████████▏         | 133kB 2.7MB/s eta 0:00:01\r\u001b[K     |███████████████████████▉        | 143kB 2.7MB/s eta 0:00:01\r\u001b[K     |█████████████████████████▋      | 153kB 2.7MB/s eta 0:00:01\r\u001b[K     |███████████████████████████▎    | 163kB 2.7MB/s eta 0:00:01\r\u001b[K     |█████████████████████████████   | 174kB 2.7MB/s eta 0:00:01\r\u001b[K     |██████████████████████████████▊ | 184kB 2.7MB/s eta 0:00:01\r\u001b[K     |████████████████████████████████| 194kB 2.7MB/s \n",
            "\u001b[?25hBuilding wheels for collected packages: feedparser\n",
            "  Building wheel for feedparser (setup.py) ... \u001b[?25l\u001b[?25hdone\n",
            "  Created wheel for feedparser: filename=feedparser-5.2.1-cp36-none-any.whl size=44940 sha256=823bcf74a0f2ca3914165bbe75484efbe7a0d49795fcf2f63ed7ad11a0b74996\n",
            "  Stored in directory: /root/.cache/pip/wheels/8c/69/b7/f52763c41c5471df57703a0ef718a32a5e81ee35dcf6d4f97f\n",
            "Successfully built feedparser\n",
            "Installing collected packages: feedparser\n",
            "Successfully installed feedparser-5.2.1\n"
          ],
          "name": "stdout"
        }
      ]
    },
    {
      "cell_type": "markdown",
      "metadata": {
        "id": "ENOf3a0qHa2s",
        "colab_type": "text"
      },
      "source": [
        "## 自分のはてブ取得"
      ]
    },
    {
      "cell_type": "code",
      "metadata": {
        "id": "GmCQ3UHkcIYF",
        "colab_type": "code",
        "colab": {}
      },
      "source": [
        "def extract_hateb(s_date,e_date,tag):\n",
        "    # list初期化\n",
        "    list = []\n",
        "\n",
        "    # 念のため100件取得してリスト化しとく\n",
        "    # 1回で20件取得できるので、5回ループさせる\n",
        "    for i in range(1,6):\n",
        "        url = \"https://b.hatena.ne.jp/masadream/rss?tag=\" + urllib.parse.quote(tag) + \"&page=\" + str(i)\n",
        "        d = feedparser.parse(url)\n",
        "\n",
        "        # パースしたものをlistに入れる\n",
        "        for entry in d[\"entries\"]:\n",
        "            title = entry.title\n",
        "            url = entry.link\n",
        "            entry_date = parse(entry.updated).astimezone(timezone('Asia/Tokyo'))\n",
        "            comments = entry.summary\n",
        "            entry_merge = [title, url, entry_date, comments]\n",
        "            list.append(entry_merge)\n",
        "\n",
        "    df = pd.DataFrame(list, columns=['title', 'url', 'entry_date', 'comments'])\n",
        "    df = df[(df[\"entry_date\"] >= s_date) & (df[\"entry_date\"] <= e_date)]\n",
        "    df = df.sort_values(\"entry_date\", ascending=True)\n",
        "    df = df[[\"title\",\"url\",\"comments\"]].values.tolist()\n",
        "\n",
        "    output_header = \"<table width=\\\"100%\\\"  style=\\\"table-layout: fixed;\\\" class=\\\"confluenceTable\\\"><tr><th width=\\\"4%\\\" class=\\\"confluenceTh\\\">#</th><th width=\\\"56%\\\" class=\\\"confluenceTh\\\">Title</th><th width=\\\"40%\\\" class=\\\"confluenceTh\\\">Comment</th></tr>\" + \"\\n\"\n",
        "    output_footer = \"</table>\"\n",
        "    output_body = \"\"\n",
        "\n",
        "    for i,entry in zip(range(1,len(df)+1),df):\n",
        "        output_body = output_body + \"<tr><td class=\\\"confluenceTd\\\">\" + str(i) + \"</td>\" + \"\\n\"\n",
        "        output_body = output_body + \"<td class=\\\"confluenceTd\\\"><a href=\\\"\" +entry[1] + \"\\\" target=\\\"_blank\\\">\" + entry[0] + \"</a></td>\" + \"\\n\"\n",
        "        output_body = output_body + \"<td class=\\\"confluenceTd\\\">\" + entry[2] + \"</td></tr>\" + \"\\n\"\n",
        "\n",
        "    return print(output_header,output_body,output_footer)"
      ],
      "execution_count": 0,
      "outputs": []
    },
    {
      "cell_type": "code",
      "metadata": {
        "id": "iGPolG2rG8Zg",
        "colab_type": "code",
        "outputId": "569b2ebd-fbcc-4040-8547-63a1dd43da5d",
        "colab": {
          "base_uri": "https://localhost:8080/",
          "height": 1000
        }
      },
      "source": [
        "# 検索するタグを入力\n",
        "search_tag = \"*data_analytics\" #固定\n",
        "\n",
        "# エントリの抽出期間を設定\n",
        "start_date = \"20200330\" # yyyymmdd\n",
        "end_date   = \"20200406\" # yyyymmdd + 1日していれる（あとでなおす）\n",
        "\n",
        "# 抽出実行\n",
        "extract_hateb(start_date,end_date,search_tag)"
      ],
      "execution_count": 0,
      "outputs": [
        {
          "output_type": "stream",
          "text": [
            "<table width=\"100%\"  style=\"table-layout: fixed;\" class=\"confluenceTable\"><tr><th width=\"4%\" class=\"confluenceTh\">#</th><th width=\"56%\" class=\"confluenceTh\">Title</th><th width=\"40%\" class=\"confluenceTh\">Comment</th></tr>\n",
            " <tr><td class=\"confluenceTd\">1</td>\n",
            "<td class=\"confluenceTd\"><a href=\"https://qiita.com/HiromuMasuda0228/items/d62a47cf9b83481929a7\" target=\"_blank\">SQLでやるこの操作ってpandas.DataFrameではどうやるの！ - Qiita</a></td>\n",
            "<td class=\"confluenceTd\"></td></tr>\n",
            "<tr><td class=\"confluenceTd\">2</td>\n",
            "<td class=\"confluenceTd\"><a href=\"http://shogyokai.jp/articles/-/2607\" target=\"_blank\">ビッグデータなど、信用できない -- 過去の「常識」がまったく通用しない今 | 企業戦略 | 島田陽介の提言 | 商業界オンライン</a></td>\n",
            "<td class=\"confluenceTd\">こういうこと言うおっさんが定期的に出てくる現象に名前をつけたい。</td></tr>\n",
            "<tr><td class=\"confluenceTd\">3</td>\n",
            "<td class=\"confluenceTd\"><a href=\"https://medium.com/lsc-psd/pythonic%E8%89%B2%E3%80%85-python%E3%81%AE%E3%82%A2%E3%83%B3%E3%83%80%E3%83%BC%E3%82%B9%E3%82%B3%E3%82%A2-%E3%82%92%E4%BD%BF%E3%81%84%E3%81%93%E3%81%AA%E3%81%9D%E3%81%86-3c132842eeef\" target=\"_blank\">「Pythonic色々」 Pythonのアンダースコア( _ )を使いこなそう！ - LSC PSD - Medium</a></td>\n",
            "<td class=\"confluenceTd\"></td></tr>\n",
            "<tr><td class=\"confluenceTd\">4</td>\n",
            "<td class=\"confluenceTd\"><a href=\"https://data-viz-lab.com/data-utilization-strategy\" target=\"_blank\">組織が効果的なデータ活用を実現するために知っておきたいデータ文化醸成の方法</a></td>\n",
            "<td class=\"confluenceTd\">包括的に書かれていて良記事。外注をどう使うかは戦略の差が大きく出そうだなあ。</td></tr>\n",
            "<tr><td class=\"confluenceTd\">5</td>\n",
            "<td class=\"confluenceTd\"><a href=\"https://stanfordnlp.github.io/\" target=\"_blank\">Stanford NLP Group | Software Summary</a></td>\n",
            "<td class=\"confluenceTd\"></td></tr>\n",
            "<tr><td class=\"confluenceTd\">6</td>\n",
            "<td class=\"confluenceTd\"><a href=\"https://www.wwdjapan.com/articles/1064703\" target=\"_blank\">「前髪」はもはやメイクより大事！　若年層がこだわる理由とは？ | WWD JAPAN.com</a></td>\n",
            "<td class=\"confluenceTd\">「肌は加工できるけれど、前髪は修正が難しい」テクノロジーと社会の再帰的関係</td></tr>\n",
            "<tr><td class=\"confluenceTd\">7</td>\n",
            "<td class=\"confluenceTd\"><a href=\"https://www.odakyu.jp/news/o5oaa1000001pnle-att/o5oaa1000001pnll.pdf\" target=\"_blank\">ディープラーニング技術を活用した鉄道の安全・安心へのチャレンジ 既設の駅構内カメラを活用した「転落検知システム」の運用を開始</a></td>\n",
            "<td class=\"confluenceTd\"></td></tr>\n",
            "<tr><td class=\"confluenceTd\">8</td>\n",
            "<td class=\"confluenceTd\"><a href=\"https://masamasa59.hatenablog.com/entry/2020/03/30/181853\" target=\"_blank\">交通のAI研究動向まとめ - 襖からキリン</a></td>\n",
            "<td class=\"confluenceTd\">時空間データ分析、キーワードかも</td></tr>\n",
            "<tr><td class=\"confluenceTd\">9</td>\n",
            "<td class=\"confluenceTd\"><a href=\"https://stdio.sangwhan.com/wtf-japan-covid-19-report/\" target=\"_blank\">Japan's COVID-19 Reports - 140KBs of Unadulterated Incompetence</a></td>\n",
            "<td class=\"confluenceTd\">日本の公的統計データの使いにくさについて</td></tr>\n",
            "<tr><td class=\"confluenceTd\">10</td>\n",
            "<td class=\"confluenceTd\"><a href=\"https://note.com/hanaori/n/n46779acb568e\" target=\"_blank\">文系社会人が統計のために１から高校数学をやりなおしました｜hanaori｜note</a></td>\n",
            "<td class=\"confluenceTd\">偉すぎる…</td></tr>\n",
            "<tr><td class=\"confluenceTd\">11</td>\n",
            "<td class=\"confluenceTd\"><a href=\"http://we.love-profit.com/entry/2020/03/25/163511\" target=\"_blank\">利益1億円を達成したAI投資の概要 - これからの「お金」の話をしよう</a></td>\n",
            "<td class=\"confluenceTd\">「既存のAI投資商品を頼る これは正直お勧めできません。」そっか…</td></tr>\n",
            "<tr><td class=\"confluenceTd\">12</td>\n",
            "<td class=\"confluenceTd\"><a href=\"https://naotaka1128.hatenadiary.jp/entry/pandas-start-guide\" target=\"_blank\">Kaggleで戦いたい人のためのpandas実戦入門 - ML_BearのKaggleな日常</a></td>\n",
            "<td class=\"confluenceTd\">pandasまとめ</td></tr>\n",
            "<tr><td class=\"confluenceTd\">13</td>\n",
            "<td class=\"confluenceTd\"><a href=\"https://www.gizmodo.jp/2020/04/smartphone-location-data-used-for-corona-response.html\" target=\"_blank\">スマホの位置情報を使って、新型コロナ拡大対策に踏み切る国々 | ギズモード・ジャパン</a></td>\n",
            "<td class=\"confluenceTd\"></td></tr>\n",
            "<tr><td class=\"confluenceTd\">14</td>\n",
            "<td class=\"confluenceTd\"><a href=\"https://www.suzu6.net/posts/145-python-zip/\" target=\"_blank\">複数の配列をまとめてfor文処理するzip()の使い方 | Python - suzu6</a></td>\n",
            "<td class=\"confluenceTd\"></td></tr>\n",
            "<tr><td class=\"confluenceTd\">15</td>\n",
            "<td class=\"confluenceTd\"><a href=\"https://qiita.com/MeiByeleth/items/5b1b8946551103ae74b3\" target=\"_blank\">DeepLearningの歴史、学習方法について (E資格対策) - Qiita</a></td>\n",
            "<td class=\"confluenceTd\"></td></tr>\n",
            "<tr><td class=\"confluenceTd\">16</td>\n",
            "<td class=\"confluenceTd\"><a href=\"https://techblog.yahoo.co.jp/entry/20200331826447/\" target=\"_blank\">レコメンデーション領域における横断データ活用の取り組み事例紹介 #機械学習 - Yahoo! JAPAN Tech Blog</a></td>\n",
            "<td class=\"confluenceTd\">コールドスタート問題</td></tr>\n",
            "<tr><td class=\"confluenceTd\">17</td>\n",
            "<td class=\"confluenceTd\"><a href=\"https://dfrieds.com/data-analysis/rank-method-python-pandas.html\" target=\"_blank\">Pandas rank() Method: Equivalent to ROW_NUMBER(), RANK(), DENSE_RANK() and NTILE() SQL Window Functions - Data Analysis</a></td>\n",
            "<td class=\"confluenceTd\">面倒くさ…。これでもまだSQLのrow_numberは再現しきれていないが。</td></tr>\n",
            "<tr><td class=\"confluenceTd\">18</td>\n",
            "<td class=\"confluenceTd\"><a href=\"https://www.publickey1.jp/blog/20/jupyterlab.html\" target=\"_blank\">JupyterLabにビジュアルデバッガーが初搭載。ブレークポイント、変数の確認、コールスタックの調査などが可能に － Publickey</a></td>\n",
            "<td class=\"confluenceTd\"></td></tr>\n",
            "<tr><td class=\"confluenceTd\">19</td>\n",
            "<td class=\"confluenceTd\"><a href=\"https://product-senses.mazrica.com/senseslab/business-efficiency/marketing-funnel\" target=\"_blank\">パーチェスファネルだけじゃない！マーケティングファネルとは？｜4モデルを解説 | Senses</a></td>\n",
            "<td class=\"confluenceTd\"></td></tr>\n",
            "<tr><td class=\"confluenceTd\">20</td>\n",
            "<td class=\"confluenceTd\"><a href=\"https://www.itmedia.co.jp/news/articles/2004/03/news105.html\" target=\"_blank\">ヤフー、政府に統計データ提供へ　新型コロナ対策で - ITmedia NEWS</a></td>\n",
            "<td class=\"confluenceTd\"></td></tr>\n",
            "<tr><td class=\"confluenceTd\">21</td>\n",
            "<td class=\"confluenceTd\"><a href=\"https://speakerdeck.com/nrslib/sql-tutorial\" target=\"_blank\">SQL Tutorial - Speaker Deck</a></td>\n",
            "<td class=\"confluenceTd\">丁寧</td></tr>\n",
            "<tr><td class=\"confluenceTd\">22</td>\n",
            "<td class=\"confluenceTd\"><a href=\"http://statmodeling.hatenablog.com/entry/covid19-estimate-total-number-of-positives-in-japan\" target=\"_blank\">COVID-19 日本国内の潜在的な陽性者数を推定する試み - StatModeling Memorandum</a></td>\n",
            "<td class=\"confluenceTd\"></td></tr>\n",
            "<tr><td class=\"confluenceTd\">23</td>\n",
            "<td class=\"confluenceTd\"><a href=\"https://ai-scholar.tech/automl/automl-zero-ai-391\" target=\"_blank\">機械学習アルゴリズムを進化的検索で全自動生成する AutoML-Zero | AI-SCHOLAR.TECH</a></td>\n",
            "<td class=\"confluenceTd\"></td></tr>\n",
            " </table>\n"
          ],
          "name": "stdout"
        }
      ]
    },
    {
      "cell_type": "code",
      "metadata": {
        "id": "pWdUiAw2GTXV",
        "colab_type": "code",
        "colab": {}
      },
      "source": [
        ""
      ],
      "execution_count": 0,
      "outputs": []
    }
  ]
}