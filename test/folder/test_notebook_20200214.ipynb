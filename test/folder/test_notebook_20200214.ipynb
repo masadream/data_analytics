{
  "nbformat": 4,
  "nbformat_minor": 0,
  "metadata": {
    "colab": {
      "name": "test_notebook_20200214.ipynb",
      "provenance": [],
      "toc_visible": true,
      "mount_file_id": "1wLO-2Gemxfpk0S81bcVdr00KVbVHaWEB",
      "authorship_tag": "ABX9TyOfzjw7XKBP5RVBRMWnHvCS",
      "include_colab_link": true
    },
    "kernelspec": {
      "name": "python3",
      "display_name": "Python 3"
    }
  },
  "cells": [
    {
      "cell_type": "markdown",
      "metadata": {
        "id": "view-in-github",
        "colab_type": "text"
      },
      "source": [
        "<a href=\"https://colab.research.google.com/github/masadream/data_analytics/blob/master/test/folder/test_notebook_20200214.ipynb\" target=\"_parent\"><img src=\"https://colab.research.google.com/assets/colab-badge.svg\" alt=\"Open In Colab\"/></a>"
      ]
    },
    {
      "cell_type": "markdown",
      "metadata": {
        "id": "Ys_z2RF1UgTS",
        "colab_type": "text"
      },
      "source": [
        "## test"
      ]
    },
    {
      "cell_type": "code",
      "metadata": {
        "id": "6lNIv9_HVH0f",
        "colab_type": "code",
        "outputId": "c1a0e1f7-a4dd-437e-9e06-160107034fb0",
        "colab": {
          "base_uri": "https://localhost:8080/",
          "height": 54
        }
      },
      "source": [
        "from google.colab import drive\n",
        "drive.mount('/content/drive')"
      ],
      "execution_count": 0,
      "outputs": [
        {
          "output_type": "stream",
          "text": [
            "Drive already mounted at /content/drive; to attempt to forcibly remount, call drive.mount(\"/content/drive\", force_remount=True).\n"
          ],
          "name": "stdout"
        }
      ]
    },
    {
      "cell_type": "markdown",
      "metadata": {
        "id": "L6AFwygJU9Y1",
        "colab_type": "text"
      },
      "source": [
        "# 新しいセクション"
      ]
    },
    {
      "cell_type": "markdown",
      "metadata": {
        "id": "__hM4kkGUm59",
        "colab_type": "text"
      },
      "source": [
        "## level2"
      ]
    },
    {
      "cell_type": "markdown",
      "metadata": {
        "id": "811pds0PUqj-",
        "colab_type": "text"
      },
      "source": [
        "### level3\n",
        "です"
      ]
    },
    {
      "cell_type": "code",
      "metadata": {
        "id": "nDSKTtKFUZV0",
        "colab_type": "code",
        "outputId": "bf6439a2-0a86-4f72-f4d3-1dff7df2e144",
        "colab": {
          "base_uri": "https://localhost:8080/",
          "height": 34
        }
      },
      "source": [
        "print(\"hello world\")"
      ],
      "execution_count": 0,
      "outputs": [
        {
          "output_type": "stream",
          "text": [
            "hello world\n"
          ],
          "name": "stdout"
        }
      ]
    },
    {
      "cell_type": "code",
      "metadata": {
        "id": "FyiZLIQ7UxEN",
        "colab_type": "code",
        "colab": {}
      },
      "source": [
        ""
      ],
      "execution_count": 0,
      "outputs": []
    }
  ]
}