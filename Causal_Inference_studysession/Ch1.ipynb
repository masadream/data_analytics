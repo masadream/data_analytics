{
  "nbformat": 4,
  "nbformat_minor": 0,
  "metadata": {
    "colab": {
      "name": "Ch1.ipynb",
      "provenance": [],
      "collapsed_sections": [],
      "toc_visible": true,
      "authorship_tag": "ABX9TyNZ6qkjcvAZSHIWpuzKJOdi",
      "include_colab_link": true
    },
    "kernelspec": {
      "name": "python3",
      "display_name": "Python 3"
    }
  },
  "cells": [
    {
      "cell_type": "markdown",
      "metadata": {
        "id": "view-in-github",
        "colab_type": "text"
      },
      "source": [
        "<a href=\"https://colab.research.google.com/github/masadream/data_analytics/blob/master/Causal_Inference_studysession/Ch1.ipynb\" target=\"_parent\"><img src=\"https://colab.research.google.com/assets/colab-badge.svg\" alt=\"Open In Colab\"/></a>"
      ]
    },
    {
      "cell_type": "markdown",
      "metadata": {
        "id": "S1EWxqI_bqka",
        "colab_type": "text"
      },
      "source": [
        "# 1.4.1"
      ]
    },
    {
      "cell_type": "markdown",
      "metadata": {
        "id": "GoBOio-RbypU",
        "colab_type": "text"
      },
      "source": [
        "##### モジュール準備\n"
      ]
    },
    {
      "cell_type": "code",
      "metadata": {
        "id": "BrOzNbFpb2Ig",
        "colab_type": "code",
        "colab": {}
      },
      "source": [
        "import pandas as pd\n",
        "import numpy as np\n",
        "from statsmodels.stats.weightstats import ttest_ind"
      ],
      "execution_count": 0,
      "outputs": []
    },
    {
      "cell_type": "markdown",
      "metadata": {
        "id": "K5Qd9V7Gb5LO",
        "colab_type": "text"
      },
      "source": [
        "##### データセットダウンロード"
      ]
    },
    {
      "cell_type": "code",
      "metadata": {
        "id": "fD-rwOQAb3G1",
        "colab_type": "code",
        "colab": {}
      },
      "source": [
        "email_data = pd.read_csv(\"http://www.minethatdata.com/Kevin_Hillstrom_MineThatData_E-MailAnalytics_DataMiningChallenge_2008.03.20.csv\")\n"
      ],
      "execution_count": 0,
      "outputs": []
    },
    {
      "cell_type": "code",
      "metadata": {
        "id": "dE3bujDKb9fT",
        "colab_type": "code",
        "colab": {}
      },
      "source": [
        ""
      ],
      "execution_count": 0,
      "outputs": []
    }
  ]
}