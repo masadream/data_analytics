{
  "nbformat": 4,
  "nbformat_minor": 0,
  "metadata": {
    "colab": {
      "name": "Ch1.ipynb",
      "provenance": [],
      "collapsed_sections": [],
      "toc_visible": true,
      "authorship_tag": "ABX9TyOwL7OJbkxLymMlYRpAiiK0",
      "include_colab_link": true
    },
    "kernelspec": {
      "name": "python3",
      "display_name": "Python 3"
    }
  },
  "cells": [
    {
      "cell_type": "markdown",
      "metadata": {
        "id": "view-in-github",
        "colab_type": "text"
      },
      "source": [
        "<a href=\"https://colab.research.google.com/github/masadream/data_analytics/blob/master/Causal_Inference_studysession/Ch1.ipynb\" target=\"_parent\"><img src=\"https://colab.research.google.com/assets/colab-badge.svg\" alt=\"Open In Colab\"/></a>"
      ]
    },
    {
      "cell_type": "markdown",
      "metadata": {
        "id": "S1EWxqI_bqka",
        "colab_type": "text"
      },
      "source": [
        "# 1.4.1"
      ]
    },
    {
      "cell_type": "markdown",
      "metadata": {
        "id": "GoBOio-RbypU",
        "colab_type": "text"
      },
      "source": [
        "##### モジュール準備\n"
      ]
    },
    {
      "cell_type": "code",
      "metadata": {
        "id": "BrOzNbFpb2Ig",
        "colab_type": "code",
        "colab": {}
      },
      "source": [
        "import pandas as pd\n",
        "import numpy as np\n",
        "from statsmodels.stats.weightstats import ttest_ind"
      ],
      "execution_count": 0,
      "outputs": []
    },
    {
      "cell_type": "markdown",
      "metadata": {
        "id": "K5Qd9V7Gb5LO",
        "colab_type": "text"
      },
      "source": [
        "##### データセットダウンロード"
      ]
    },
    {
      "cell_type": "code",
      "metadata": {
        "id": "fD-rwOQAb3G1",
        "colab_type": "code",
        "colab": {}
      },
      "source": [
        "email_data = pd.read_csv(\"http://www.minethatdata.com/Kevin_Hillstrom_MineThatData_E-MailAnalytics_DataMiningChallenge_2008.03.20.csv\")"
      ],
      "execution_count": 0,
      "outputs": []
    },
    {
      "cell_type": "markdown",
      "metadata": {
        "id": "0KeQN2Z1eAYL",
        "colab_type": "text"
      },
      "source": [
        "##### 女性向けメール配信データをデータセットから除外"
      ]
    },
    {
      "cell_type": "code",
      "metadata": {
        "id": "dE3bujDKb9fT",
        "colab_type": "code",
        "colab": {}
      },
      "source": [
        "male_df = email_data[email_data[\"segment\"] != \"Womens E-Mail\"]"
      ],
      "execution_count": 0,
      "outputs": []
    },
    {
      "cell_type": "markdown",
      "metadata": {
        "id": "vXn-NOV9eFx1",
        "colab_type": "text"
      },
      "source": [
        "##### 介入を表すtreatment変数を追加"
      ]
    },
    {
      "cell_type": "code",
      "metadata": {
        "id": "BRo-SmYdeIHg",
        "colab_type": "code",
        "outputId": "12dd1828-464c-4b48-88b3-ccbf9b3c254a",
        "colab": {
          "base_uri": "https://localhost:8080/",
          "height": 168
        }
      },
      "source": [
        "male_df[\"treatment\"] = np.where(male_df[\"segment\"] == \"Mens E-Mail\", 1, 0)"
      ],
      "execution_count": 0,
      "outputs": [
        {
          "output_type": "error",
          "ename": "NameError",
          "evalue": "ignored",
          "traceback": [
            "\u001b[0;31m---------------------------------------------------------------------------\u001b[0m",
            "\u001b[0;31mNameError\u001b[0m                                 Traceback (most recent call last)",
            "\u001b[0;32m<ipython-input-4-f8b0f80c3484>\u001b[0m in \u001b[0;36m<module>\u001b[0;34m()\u001b[0m\n\u001b[0;32m----> 1\u001b[0;31m \u001b[0mmale_df\u001b[0m\u001b[0;34m[\u001b[0m\u001b[0;34m\"treatment\"\u001b[0m\u001b[0;34m]\u001b[0m \u001b[0;34m=\u001b[0m \u001b[0mnp\u001b[0m\u001b[0;34m.\u001b[0m\u001b[0mwhere\u001b[0m\u001b[0;34m(\u001b[0m\u001b[0mmale_df\u001b[0m\u001b[0;34m[\u001b[0m\u001b[0;34m\"segment\"\u001b[0m\u001b[0;34m]\u001b[0m \u001b[0;34m==\u001b[0m \u001b[0;34m\"Mens E-Mail\"\u001b[0m\u001b[0;34m,\u001b[0m \u001b[0;36m1\u001b[0m\u001b[0;34m,\u001b[0m \u001b[0;36m0\u001b[0m\u001b[0;34m)\u001b[0m\u001b[0;34m\u001b[0m\u001b[0;34m\u001b[0m\u001b[0m\n\u001b[0m",
            "\u001b[0;31mNameError\u001b[0m: name 'male_df' is not defined"
          ]
        }
      ]
    },
    {
      "cell_type": "markdown",
      "metadata": {
        "id": "qWmMFG7lf1Nm",
        "colab_type": "text"
      },
      "source": [
        "# 1.4.2"
      ]
    },
    {
      "cell_type": "markdown",
      "metadata": {
        "id": "BgaZQaQqf6iW",
        "colab_type": "text"
      },
      "source": [
        "##### treatmentごとの簡単な集計結果"
      ]
    },
    {
      "cell_type": "code",
      "metadata": {
        "id": "POz1zCrFeJ6S",
        "colab_type": "code",
        "colab": {}
      },
      "source": [
        "male_df.groupby(\"treatment\").agg({\"conversion\" : \"mean\", \"spend\" : \"mean\", \"treatment\" : \"count\"})"
      ],
      "execution_count": 0,
      "outputs": []
    },
    {
      "cell_type": "markdown",
      "metadata": {
        "id": "6Uqb9WoVf_sX",
        "colab_type": "text"
      },
      "source": [
        "##### 元ソースではRでStudentのt検定・両側検定をやっているので、それにしたがう\n",
        "https://cran.r-project.org/doc/manuals/r-release/fullrefman.pdf\n",
        "https://www.statsmodels.org/stable/generated/statsmodels.stats.weightstats.ttest_ind.html#statsmodels.stats.weightstats.ttest_ind\n"
      ]
    },
    {
      "cell_type": "code",
      "metadata": {
        "id": "QSX2yOQggGB5",
        "colab_type": "code",
        "colab": {}
      },
      "source": [
        "mens_mail = male_df[male_df[\"treatment\"] == 1]\n",
        "mens_mail = mens_mail[\"spend\"]\n",
        "no_mail = male_df[male_df[\"treatment\"] == 0]\n",
        "no_mail = no_mail[\"spend\"]\n",
        "\n",
        "rct_ttest = ttest_ind(mens_mail, no_mail, alternative = 'two-sided', usevar = 'pooled')\n",
        "rct_ttest"
      ],
      "execution_count": 0,
      "outputs": []
    },
    {
      "cell_type": "markdown",
      "metadata": {
        "id": "EMSe3GNQ_oVb",
        "colab_type": "text"
      },
      "source": [
        "# 1.4.3"
      ]
    },
    {
      "cell_type": "markdown",
      "metadata": {
        "id": "NtHyerz0_xp0",
        "colab_type": "text"
      },
      "source": [
        "##### randomseedの固定"
      ]
    },
    {
      "cell_type": "code",
      "metadata": {
        "id": "fTAGAaeN_176",
        "colab_type": "code",
        "colab": {}
      },
      "source": [
        "np.random.seed(1)"
      ],
      "execution_count": 0,
      "outputs": []
    },
    {
      "cell_type": "markdown",
      "metadata": {
        "id": "s1fOIh9__tr5",
        "colab_type": "text"
      },
      "source": [
        "##### 初期値"
      ]
    },
    {
      "cell_type": "code",
      "metadata": {
        "id": "EfOjHUJV_rM_",
        "colab_type": "code",
        "colab": {}
      },
      "source": [
        "biased_data = male_df\n",
        "biased_data[\"obs_rate_c\"] = 0.5\n",
        "biased_data[\"obs_rate_t\"] = 0.5"
      ],
      "execution_count": 0,
      "outputs": []
    },
    {
      "cell_type": "markdown",
      "metadata": {
        "id": "CDgNXxSg_5TI",
        "colab_type": "text"
      },
      "source": [
        "##### バイアスデータの作成"
      ]
    },
    {
      "cell_type": "code",
      "metadata": {
        "id": "THoZEjPZ_3_x",
        "colab_type": "code",
        "colab": {}
      },
      "source": [
        "biased_data[\"obs_rate_c\"] = np.where((biased_data[\"history\"] > 300) | (biased_data[\"recency\"] < 6) | (biased_data[\"channel\"] == \"Multichannel\"), biased_data[\"obs_rate_c\"], 1)\n",
        "\n",
        "biased_data[\"obs_rate_t\"] = np.where((biased_data[\"history\"] > 300) | (biased_data[\"recency\"] < 6) | (biased_data[\"channel\"] == \"Multichannel\"), 1, biased_data[\"obs_rate_t\"])\n",
        "\n",
        "biased_data[\"random_number\"] = np.random.rand(len(biased_data))\n",
        "\n",
        "biased_data = biased_data[(biased_data[\"treatment\"] == 0 ) & (biased_data[\"random_number\"] < biased_data[\"obs_rate_c\"]) | (biased_data[\"treatment\"] == 1) & (biased_data[\"random_number\"] < biased_data[\"obs_rate_t\"])]"
      ],
      "execution_count": 0,
      "outputs": []
    },
    {
      "cell_type": "markdown",
      "metadata": {
        "id": "hYKbVD1FAAHM",
        "colab_type": "text"
      },
      "source": [
        "##### バイアスデータのtreatmentごとの簡単な集計"
      ]
    },
    {
      "cell_type": "code",
      "metadata": {
        "id": "BRJKKSJkAEKU",
        "colab_type": "code",
        "colab": {}
      },
      "source": [
        "biased_data.groupby(\"treatment\").agg({\"conversion\" : \"mean\", \"spend\" : \"mean\", \"treatment\" : \"count\"})"
      ],
      "execution_count": 0,
      "outputs": []
    },
    {
      "cell_type": "markdown",
      "metadata": {
        "id": "i0as37yFAGr_",
        "colab_type": "text"
      },
      "source": [
        "##### バイアスデータでのt検定実施"
      ]
    },
    {
      "cell_type": "code",
      "metadata": {
        "id": "uCdkctNkAJY4",
        "colab_type": "code",
        "colab": {}
      },
      "source": [
        "mens_mail_biased = biased_data[biased_data[\"treatment\"] == 1]\n",
        "mens_mail_biased = mens_mail_biased[\"spend\"]\n",
        "no_mail_biased = biased_data[biased_data[\"treatment\"] == 0]\n",
        "no_mail_biased = no_mail_biased[\"spend\"]\n",
        "\n",
        "rct_ttest_biased = ttest_ind(mens_mail, no_mail, alternative = 'two-sided', usevar = 'pooled')\n",
        "rct_ttest_biased"
      ],
      "execution_count": 0,
      "outputs": []
    }
  ]
}