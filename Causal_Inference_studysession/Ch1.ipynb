{
  "nbformat": 4,
  "nbformat_minor": 0,
  "metadata": {
    "colab": {
      "name": "Ch1.ipynb",
      "provenance": [],
      "collapsed_sections": [],
      "toc_visible": true,
      "authorship_tag": "ABX9TyNslPhR7i1zWwfQ9Bw0HZkS",
      "include_colab_link": true
    },
    "kernelspec": {
      "name": "python3",
      "display_name": "Python 3"
    }
  },
  "cells": [
    {
      "cell_type": "markdown",
      "metadata": {
        "id": "view-in-github",
        "colab_type": "text"
      },
      "source": [
        "<a href=\"https://colab.research.google.com/github/masadream/data_analytics/blob/master/Causal_Inference_studysession/Ch1.ipynb\" target=\"_parent\"><img src=\"https://colab.research.google.com/assets/colab-badge.svg\" alt=\"Open In Colab\"/></a>"
      ]
    },
    {
      "cell_type": "markdown",
      "metadata": {
        "id": "S1EWxqI_bqka",
        "colab_type": "text"
      },
      "source": [
        "# 1.4.1"
      ]
    },
    {
      "cell_type": "markdown",
      "metadata": {
        "id": "GoBOio-RbypU",
        "colab_type": "text"
      },
      "source": [
        "##### モジュール準備\n"
      ]
    },
    {
      "cell_type": "code",
      "metadata": {
        "id": "BrOzNbFpb2Ig",
        "colab_type": "code",
        "colab": {}
      },
      "source": [
        "import pandas as pd\n",
        "import numpy as np\n",
        "from statsmodels.stats.weightstats import ttest_ind"
      ],
      "execution_count": 0,
      "outputs": []
    },
    {
      "cell_type": "markdown",
      "metadata": {
        "id": "K5Qd9V7Gb5LO",
        "colab_type": "text"
      },
      "source": [
        "##### データセットダウンロード"
      ]
    },
    {
      "cell_type": "code",
      "metadata": {
        "id": "fD-rwOQAb3G1",
        "colab_type": "code",
        "colab": {}
      },
      "source": [
        "email_data = pd.read_csv(\"http://www.minethatdata.com/Kevin_Hillstrom_MineThatData_E-MailAnalytics_DataMiningChallenge_2008.03.20.csv\")"
      ],
      "execution_count": 0,
      "outputs": []
    },
    {
      "cell_type": "markdown",
      "metadata": {
        "id": "0KeQN2Z1eAYL",
        "colab_type": "text"
      },
      "source": [
        "##### 女性向けメール配信データをデータセットから除外"
      ]
    },
    {
      "cell_type": "code",
      "metadata": {
        "id": "dE3bujDKb9fT",
        "colab_type": "code",
        "colab": {}
      },
      "source": [
        "male_df = email_data[email_data[\"segment\"] != \"Womens E-Mail\"]"
      ],
      "execution_count": 0,
      "outputs": []
    },
    {
      "cell_type": "markdown",
      "metadata": {
        "id": "vXn-NOV9eFx1",
        "colab_type": "text"
      },
      "source": [
        "##### 介入を表すtreatment変数を追加"
      ]
    },
    {
      "cell_type": "code",
      "metadata": {
        "id": "BRo-SmYdeIHg",
        "colab_type": "code",
        "outputId": "9f7c693d-f24c-491e-d402-4667d8a760f2",
        "colab": {
          "base_uri": "https://localhost:8080/",
          "height": 119
        }
      },
      "source": [
        "male_df[\"treatment\"] = np.where(male_df[\"segment\"] == \"Mens E-Mail\", 1, 0)"
      ],
      "execution_count": 4,
      "outputs": [
        {
          "output_type": "stream",
          "text": [
            "/usr/local/lib/python3.6/dist-packages/ipykernel_launcher.py:1: SettingWithCopyWarning: \n",
            "A value is trying to be set on a copy of a slice from a DataFrame.\n",
            "Try using .loc[row_indexer,col_indexer] = value instead\n",
            "\n",
            "See the caveats in the documentation: http://pandas.pydata.org/pandas-docs/stable/user_guide/indexing.html#returning-a-view-versus-a-copy\n",
            "  \"\"\"Entry point for launching an IPython kernel.\n"
          ],
          "name": "stderr"
        }
      ]
    },
    {
      "cell_type": "markdown",
      "metadata": {
        "id": "qWmMFG7lf1Nm",
        "colab_type": "text"
      },
      "source": [
        "# 1.4.2"
      ]
    },
    {
      "cell_type": "markdown",
      "metadata": {
        "id": "BgaZQaQqf6iW",
        "colab_type": "text"
      },
      "source": [
        "##### treatmentごとの簡単な集計結果"
      ]
    },
    {
      "cell_type": "code",
      "metadata": {
        "id": "POz1zCrFeJ6S",
        "colab_type": "code",
        "colab": {
          "base_uri": "https://localhost:8080/",
          "height": 142
        },
        "outputId": "e502808e-017f-4c1c-c178-888dff8fb7a1"
      },
      "source": [
        "male_df.groupby(\"treatment\").agg({\"conversion\" : \"mean\", \"spend\" : \"mean\", \"treatment\" : \"count\"})"
      ],
      "execution_count": 5,
      "outputs": [
        {
          "output_type": "execute_result",
          "data": {
            "text/html": [
              "<div>\n",
              "<style scoped>\n",
              "    .dataframe tbody tr th:only-of-type {\n",
              "        vertical-align: middle;\n",
              "    }\n",
              "\n",
              "    .dataframe tbody tr th {\n",
              "        vertical-align: top;\n",
              "    }\n",
              "\n",
              "    .dataframe thead th {\n",
              "        text-align: right;\n",
              "    }\n",
              "</style>\n",
              "<table border=\"1\" class=\"dataframe\">\n",
              "  <thead>\n",
              "    <tr style=\"text-align: right;\">\n",
              "      <th></th>\n",
              "      <th>conversion</th>\n",
              "      <th>spend</th>\n",
              "      <th>treatment</th>\n",
              "    </tr>\n",
              "    <tr>\n",
              "      <th>treatment</th>\n",
              "      <th></th>\n",
              "      <th></th>\n",
              "      <th></th>\n",
              "    </tr>\n",
              "  </thead>\n",
              "  <tbody>\n",
              "    <tr>\n",
              "      <th>0</th>\n",
              "      <td>0.005726</td>\n",
              "      <td>0.652789</td>\n",
              "      <td>21306</td>\n",
              "    </tr>\n",
              "    <tr>\n",
              "      <th>1</th>\n",
              "      <td>0.012531</td>\n",
              "      <td>1.422617</td>\n",
              "      <td>21307</td>\n",
              "    </tr>\n",
              "  </tbody>\n",
              "</table>\n",
              "</div>"
            ],
            "text/plain": [
              "           conversion     spend  treatment\n",
              "treatment                                 \n",
              "0            0.005726  0.652789      21306\n",
              "1            0.012531  1.422617      21307"
            ]
          },
          "metadata": {
            "tags": []
          },
          "execution_count": 5
        }
      ]
    },
    {
      "cell_type": "markdown",
      "metadata": {
        "id": "6Uqb9WoVf_sX",
        "colab_type": "text"
      },
      "source": [
        "##### 元ソースではRでStudentのt検定・両側検定をやっているので、それにしたがう\n",
        "https://cran.r-project.org/doc/manuals/r-release/fullrefman.pdf\n",
        "https://www.statsmodels.org/stable/generated/statsmodels.stats.weightstats.ttest_ind.html#statsmodels.stats.weightstats.ttest_ind\n"
      ]
    },
    {
      "cell_type": "code",
      "metadata": {
        "id": "QSX2yOQggGB5",
        "colab_type": "code",
        "colab": {
          "base_uri": "https://localhost:8080/",
          "height": 34
        },
        "outputId": "cdf986c5-4267-401b-cc6e-bfdf41fd7fbe"
      },
      "source": [
        "mens_mail = male_df[male_df[\"treatment\"] == 1]\n",
        "mens_mail = mens_mail[\"spend\"]\n",
        "no_mail = male_df[male_df[\"treatment\"] == 0]\n",
        "no_mail = no_mail[\"spend\"]\n",
        "\n",
        "rct_ttest = ttest_ind(mens_mail, no_mail, alternative = 'two-sided', usevar = 'pooled')\n",
        "rct_ttest"
      ],
      "execution_count": 6,
      "outputs": [
        {
          "output_type": "execute_result",
          "data": {
            "text/plain": [
              "(5.300090294465455, 1.163200872605976e-07, 42611.0)"
            ]
          },
          "metadata": {
            "tags": []
          },
          "execution_count": 6
        }
      ]
    },
    {
      "cell_type": "markdown",
      "metadata": {
        "id": "EMSe3GNQ_oVb",
        "colab_type": "text"
      },
      "source": [
        "# 1.4.3"
      ]
    },
    {
      "cell_type": "markdown",
      "metadata": {
        "id": "NtHyerz0_xp0",
        "colab_type": "text"
      },
      "source": [
        "##### randomseedの固定"
      ]
    },
    {
      "cell_type": "code",
      "metadata": {
        "id": "fTAGAaeN_176",
        "colab_type": "code",
        "colab": {}
      },
      "source": [
        "np.random.seed(1)"
      ],
      "execution_count": 0,
      "outputs": []
    },
    {
      "cell_type": "markdown",
      "metadata": {
        "id": "s1fOIh9__tr5",
        "colab_type": "text"
      },
      "source": [
        "##### 初期値"
      ]
    },
    {
      "cell_type": "code",
      "metadata": {
        "id": "EfOjHUJV_rM_",
        "colab_type": "code",
        "colab": {
          "base_uri": "https://localhost:8080/",
          "height": 221
        },
        "outputId": "b42d308e-49e6-4644-d881-4e4238fb69b8"
      },
      "source": [
        "biased_data = male_df\n",
        "biased_data[\"obs_rate_c\"] = 0.5\n",
        "biased_data[\"obs_rate_t\"] = 0.5"
      ],
      "execution_count": 8,
      "outputs": [
        {
          "output_type": "stream",
          "text": [
            "/usr/local/lib/python3.6/dist-packages/ipykernel_launcher.py:2: SettingWithCopyWarning: \n",
            "A value is trying to be set on a copy of a slice from a DataFrame.\n",
            "Try using .loc[row_indexer,col_indexer] = value instead\n",
            "\n",
            "See the caveats in the documentation: http://pandas.pydata.org/pandas-docs/stable/user_guide/indexing.html#returning-a-view-versus-a-copy\n",
            "  \n",
            "/usr/local/lib/python3.6/dist-packages/ipykernel_launcher.py:3: SettingWithCopyWarning: \n",
            "A value is trying to be set on a copy of a slice from a DataFrame.\n",
            "Try using .loc[row_indexer,col_indexer] = value instead\n",
            "\n",
            "See the caveats in the documentation: http://pandas.pydata.org/pandas-docs/stable/user_guide/indexing.html#returning-a-view-versus-a-copy\n",
            "  This is separate from the ipykernel package so we can avoid doing imports until\n"
          ],
          "name": "stderr"
        }
      ]
    },
    {
      "cell_type": "markdown",
      "metadata": {
        "id": "CDgNXxSg_5TI",
        "colab_type": "text"
      },
      "source": [
        "##### バイアスデータの作成"
      ]
    },
    {
      "cell_type": "code",
      "metadata": {
        "id": "THoZEjPZ_3_x",
        "colab_type": "code",
        "colab": {
          "base_uri": "https://localhost:8080/",
          "height": 323
        },
        "outputId": "d9d6738b-5361-4f94-f211-26cecbe25906"
      },
      "source": [
        "biased_data[\"obs_rate_c\"] = np.where((biased_data[\"history\"] > 300) | (biased_data[\"recency\"] < 6) | (biased_data[\"channel\"] == \"Multichannel\"), biased_data[\"obs_rate_c\"], 1)\n",
        "\n",
        "biased_data[\"obs_rate_t\"] = np.where((biased_data[\"history\"] > 300) | (biased_data[\"recency\"] < 6) | (biased_data[\"channel\"] == \"Multichannel\"), 1, biased_data[\"obs_rate_t\"])\n",
        "\n",
        "biased_data[\"random_number\"] = np.random.rand(len(biased_data))\n",
        "\n",
        "biased_data = biased_data[(biased_data[\"treatment\"] == 0 ) & (biased_data[\"random_number\"] < biased_data[\"obs_rate_c\"]) | (biased_data[\"treatment\"] == 1) & (biased_data[\"random_number\"] < biased_data[\"obs_rate_t\"])]"
      ],
      "execution_count": 9,
      "outputs": [
        {
          "output_type": "stream",
          "text": [
            "/usr/local/lib/python3.6/dist-packages/ipykernel_launcher.py:1: SettingWithCopyWarning: \n",
            "A value is trying to be set on a copy of a slice from a DataFrame.\n",
            "Try using .loc[row_indexer,col_indexer] = value instead\n",
            "\n",
            "See the caveats in the documentation: http://pandas.pydata.org/pandas-docs/stable/user_guide/indexing.html#returning-a-view-versus-a-copy\n",
            "  \"\"\"Entry point for launching an IPython kernel.\n",
            "/usr/local/lib/python3.6/dist-packages/ipykernel_launcher.py:3: SettingWithCopyWarning: \n",
            "A value is trying to be set on a copy of a slice from a DataFrame.\n",
            "Try using .loc[row_indexer,col_indexer] = value instead\n",
            "\n",
            "See the caveats in the documentation: http://pandas.pydata.org/pandas-docs/stable/user_guide/indexing.html#returning-a-view-versus-a-copy\n",
            "  This is separate from the ipykernel package so we can avoid doing imports until\n",
            "/usr/local/lib/python3.6/dist-packages/ipykernel_launcher.py:5: SettingWithCopyWarning: \n",
            "A value is trying to be set on a copy of a slice from a DataFrame.\n",
            "Try using .loc[row_indexer,col_indexer] = value instead\n",
            "\n",
            "See the caveats in the documentation: http://pandas.pydata.org/pandas-docs/stable/user_guide/indexing.html#returning-a-view-versus-a-copy\n",
            "  \"\"\"\n"
          ],
          "name": "stderr"
        }
      ]
    },
    {
      "cell_type": "markdown",
      "metadata": {
        "id": "hYKbVD1FAAHM",
        "colab_type": "text"
      },
      "source": [
        "##### バイアスデータのtreatmentごとの簡単な集計"
      ]
    },
    {
      "cell_type": "code",
      "metadata": {
        "id": "BRJKKSJkAEKU",
        "colab_type": "code",
        "colab": {
          "base_uri": "https://localhost:8080/",
          "height": 142
        },
        "outputId": "50a41571-be82-4871-e344-4d76cb803824"
      },
      "source": [
        "biased_data.groupby(\"treatment\").agg({\"conversion\" : \"mean\", \"spend\" : \"mean\", \"treatment\" : \"count\"})"
      ],
      "execution_count": 10,
      "outputs": [
        {
          "output_type": "execute_result",
          "data": {
            "text/html": [
              "<div>\n",
              "<style scoped>\n",
              "    .dataframe tbody tr th:only-of-type {\n",
              "        vertical-align: middle;\n",
              "    }\n",
              "\n",
              "    .dataframe tbody tr th {\n",
              "        vertical-align: top;\n",
              "    }\n",
              "\n",
              "    .dataframe thead th {\n",
              "        text-align: right;\n",
              "    }\n",
              "</style>\n",
              "<table border=\"1\" class=\"dataframe\">\n",
              "  <thead>\n",
              "    <tr style=\"text-align: right;\">\n",
              "      <th></th>\n",
              "      <th>conversion</th>\n",
              "      <th>spend</th>\n",
              "      <th>treatment</th>\n",
              "    </tr>\n",
              "    <tr>\n",
              "      <th>treatment</th>\n",
              "      <th></th>\n",
              "      <th></th>\n",
              "      <th></th>\n",
              "    </tr>\n",
              "  </thead>\n",
              "  <tbody>\n",
              "    <tr>\n",
              "      <th>0</th>\n",
              "      <td>0.005673</td>\n",
              "      <td>0.639339</td>\n",
              "      <td>14806</td>\n",
              "    </tr>\n",
              "    <tr>\n",
              "      <th>1</th>\n",
              "      <td>0.013079</td>\n",
              "      <td>1.468905</td>\n",
              "      <td>17203</td>\n",
              "    </tr>\n",
              "  </tbody>\n",
              "</table>\n",
              "</div>"
            ],
            "text/plain": [
              "           conversion     spend  treatment\n",
              "treatment                                 \n",
              "0            0.005673  0.639339      14806\n",
              "1            0.013079  1.468905      17203"
            ]
          },
          "metadata": {
            "tags": []
          },
          "execution_count": 10
        }
      ]
    },
    {
      "cell_type": "markdown",
      "metadata": {
        "id": "i0as37yFAGr_",
        "colab_type": "text"
      },
      "source": [
        "##### バイアスデータでのt検定実施"
      ]
    },
    {
      "cell_type": "code",
      "metadata": {
        "id": "uCdkctNkAJY4",
        "colab_type": "code",
        "colab": {
          "base_uri": "https://localhost:8080/",
          "height": 34
        },
        "outputId": "341540b8-1267-4252-94f7-018cdc980437"
      },
      "source": [
        "mens_mail_biased = biased_data[biased_data[\"treatment\"] == 1]\n",
        "mens_mail_biased = mens_mail_biased[\"spend\"]\n",
        "no_mail_biased = biased_data[biased_data[\"treatment\"] == 0]\n",
        "no_mail_biased = no_mail_biased[\"spend\"]\n",
        "\n",
        "rct_ttest_biased = ttest_ind(mens_mail_biased, no_mail_biased, alternative = 'two-sided', usevar = 'pooled')\n",
        "rct_ttest_biased"
      ],
      "execution_count": 12,
      "outputs": [
        {
          "output_type": "execute_result",
          "data": {
            "text/plain": [
              "(4.857590542261104, 1.1938371418318866e-06, 32007.0)"
            ]
          },
          "metadata": {
            "tags": []
          },
          "execution_count": 12
        }
      ]
    }
  ]
}