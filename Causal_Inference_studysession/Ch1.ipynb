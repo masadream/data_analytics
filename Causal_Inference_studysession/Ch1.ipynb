{
  "nbformat": 4,
  "nbformat_minor": 0,
  "metadata": {
    "colab": {
      "name": "Ch1.ipynb",
      "provenance": [],
      "collapsed_sections": [],
      "toc_visible": true,
      "authorship_tag": "ABX9TyPbhjMhjd7KEG+ufdXRzJi8",
      "include_colab_link": true
    },
    "kernelspec": {
      "name": "python3",
      "display_name": "Python 3"
    }
  },
  "cells": [
    {
      "cell_type": "markdown",
      "metadata": {
        "id": "view-in-github",
        "colab_type": "text"
      },
      "source": [
        "<a href=\"https://colab.research.google.com/github/masadream/data_analytics/blob/master/Causal_Inference_studysession/Ch1.ipynb\" target=\"_parent\"><img src=\"https://colab.research.google.com/assets/colab-badge.svg\" alt=\"Open In Colab\"/></a>"
      ]
    },
    {
      "cell_type": "markdown",
      "metadata": {
        "id": "S1EWxqI_bqka",
        "colab_type": "text"
      },
      "source": [
        "# 1.4.1"
      ]
    },
    {
      "cell_type": "markdown",
      "metadata": {
        "id": "GoBOio-RbypU",
        "colab_type": "text"
      },
      "source": [
        "##### モジュール準備\n"
      ]
    },
    {
      "cell_type": "code",
      "metadata": {
        "id": "BrOzNbFpb2Ig",
        "colab_type": "code",
        "colab": {}
      },
      "source": [
        "import pandas as pd\n",
        "import numpy as np\n",
        "from statsmodels.stats.weightstats import ttest_ind"
      ],
      "execution_count": 0,
      "outputs": []
    },
    {
      "cell_type": "markdown",
      "metadata": {
        "id": "K5Qd9V7Gb5LO",
        "colab_type": "text"
      },
      "source": [
        "##### データセットダウンロード"
      ]
    },
    {
      "cell_type": "code",
      "metadata": {
        "id": "fD-rwOQAb3G1",
        "colab_type": "code",
        "colab": {}
      },
      "source": [
        "email_data = pd.read_csv(\"http://www.minethatdata.com/Kevin_Hillstrom_MineThatData_E-MailAnalytics_DataMiningChallenge_2008.03.20.csv\")"
      ],
      "execution_count": 0,
      "outputs": []
    },
    {
      "cell_type": "markdown",
      "metadata": {
        "id": "0KeQN2Z1eAYL",
        "colab_type": "text"
      },
      "source": [
        "##### 女性向けメール配信データをデータセットから除外"
      ]
    },
    {
      "cell_type": "code",
      "metadata": {
        "id": "dE3bujDKb9fT",
        "colab_type": "code",
        "colab": {}
      },
      "source": [
        "male_df = email_data[email_data[\"segment\"] != \"Womens E-Mail\"]"
      ],
      "execution_count": 0,
      "outputs": []
    },
    {
      "cell_type": "markdown",
      "metadata": {
        "id": "vXn-NOV9eFx1",
        "colab_type": "text"
      },
      "source": [
        "##### 介入を表すtreatment変数を追加"
      ]
    },
    {
      "cell_type": "code",
      "metadata": {
        "id": "BRo-SmYdeIHg",
        "colab_type": "code",
        "colab": {
          "base_uri": "https://localhost:8080/",
          "height": 168
        },
        "outputId": "12dd1828-464c-4b48-88b3-ccbf9b3c254a"
      },
      "source": [
        "male_df[\"treatment\"] = np.where(male_df[\"segment\"] == \"Mens E-Mail\", 1, 0)"
      ],
      "execution_count": 4,
      "outputs": [
        {
          "output_type": "error",
          "ename": "NameError",
          "evalue": "ignored",
          "traceback": [
            "\u001b[0;31m---------------------------------------------------------------------------\u001b[0m",
            "\u001b[0;31mNameError\u001b[0m                                 Traceback (most recent call last)",
            "\u001b[0;32m<ipython-input-4-f8b0f80c3484>\u001b[0m in \u001b[0;36m<module>\u001b[0;34m()\u001b[0m\n\u001b[0;32m----> 1\u001b[0;31m \u001b[0mmale_df\u001b[0m\u001b[0;34m[\u001b[0m\u001b[0;34m\"treatment\"\u001b[0m\u001b[0;34m]\u001b[0m \u001b[0;34m=\u001b[0m \u001b[0mnp\u001b[0m\u001b[0;34m.\u001b[0m\u001b[0mwhere\u001b[0m\u001b[0;34m(\u001b[0m\u001b[0mmale_df\u001b[0m\u001b[0;34m[\u001b[0m\u001b[0;34m\"segment\"\u001b[0m\u001b[0;34m]\u001b[0m \u001b[0;34m==\u001b[0m \u001b[0;34m\"Mens E-Mail\"\u001b[0m\u001b[0;34m,\u001b[0m \u001b[0;36m1\u001b[0m\u001b[0;34m,\u001b[0m \u001b[0;36m0\u001b[0m\u001b[0;34m)\u001b[0m\u001b[0;34m\u001b[0m\u001b[0;34m\u001b[0m\u001b[0m\n\u001b[0m",
            "\u001b[0;31mNameError\u001b[0m: name 'male_df' is not defined"
          ]
        }
      ]
    },
    {
      "cell_type": "code",
      "metadata": {
        "id": "POz1zCrFeJ6S",
        "colab_type": "code",
        "colab": {}
      },
      "source": [
        ""
      ],
      "execution_count": 0,
      "outputs": []
    }
  ]
}